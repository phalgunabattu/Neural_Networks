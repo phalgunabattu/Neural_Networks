{
  "nbformat": 4,
  "nbformat_minor": 0,
  "metadata": {
    "colab": {
      "name": "ANN_for_classification.ipynb",
      "provenance": [],
      "collapsed_sections": []
    },
    "kernelspec": {
      "name": "python3",
      "display_name": "Python 3"
    }
  },
  "cells": [
    {
      "cell_type": "code",
      "metadata": {
        "id": "OiEIB7hNqtT_"
      },
      "source": [
        "import pandas as pd\r\n",
        "import numpy as np\r\n",
        "import keras\r\n",
        "from keras.models import Sequential\r\n",
        "from keras.layers import Dense\r\n",
        "from keras.layers import LeakyReLU,PReLU,ELU\r\n",
        "from keras.layers import Dropout"
      ],
      "execution_count": 1,
      "outputs": []
    },
    {
      "cell_type": "code",
      "metadata": {
        "id": "AAbjl8UcrPvG"
      },
      "source": [
        "data = pd.read_csv(\"Churn_Modelling.csv\")"
      ],
      "execution_count": 2,
      "outputs": []
    },
    {
      "cell_type": "code",
      "metadata": {
        "colab": {
          "base_uri": "https://localhost:8080/",
          "height": 402
        },
        "id": "KUsRl2T6rkW-",
        "outputId": "16f79520-4c48-4292-8dd0-bde6d22b01d1"
      },
      "source": [
        "data"
      ],
      "execution_count": 3,
      "outputs": [
        {
          "output_type": "execute_result",
          "data": {
            "text/html": [
              "<div>\n",
              "<style scoped>\n",
              "    .dataframe tbody tr th:only-of-type {\n",
              "        vertical-align: middle;\n",
              "    }\n",
              "\n",
              "    .dataframe tbody tr th {\n",
              "        vertical-align: top;\n",
              "    }\n",
              "\n",
              "    .dataframe thead th {\n",
              "        text-align: right;\n",
              "    }\n",
              "</style>\n",
              "<table border=\"1\" class=\"dataframe\">\n",
              "  <thead>\n",
              "    <tr style=\"text-align: right;\">\n",
              "      <th></th>\n",
              "      <th>RowNumber</th>\n",
              "      <th>CustomerId</th>\n",
              "      <th>Surname</th>\n",
              "      <th>CreditScore</th>\n",
              "      <th>Geography</th>\n",
              "      <th>Gender</th>\n",
              "      <th>Age</th>\n",
              "      <th>Tenure</th>\n",
              "      <th>Balance</th>\n",
              "      <th>NumOfProducts</th>\n",
              "      <th>HasCrCard</th>\n",
              "      <th>IsActiveMember</th>\n",
              "      <th>EstimatedSalary</th>\n",
              "      <th>Exited</th>\n",
              "    </tr>\n",
              "  </thead>\n",
              "  <tbody>\n",
              "    <tr>\n",
              "      <th>0</th>\n",
              "      <td>1</td>\n",
              "      <td>15634602</td>\n",
              "      <td>Hargrave</td>\n",
              "      <td>619</td>\n",
              "      <td>France</td>\n",
              "      <td>Female</td>\n",
              "      <td>42</td>\n",
              "      <td>2</td>\n",
              "      <td>0.00</td>\n",
              "      <td>1</td>\n",
              "      <td>1</td>\n",
              "      <td>1</td>\n",
              "      <td>101348.88</td>\n",
              "      <td>1</td>\n",
              "    </tr>\n",
              "    <tr>\n",
              "      <th>1</th>\n",
              "      <td>2</td>\n",
              "      <td>15647311</td>\n",
              "      <td>Hill</td>\n",
              "      <td>608</td>\n",
              "      <td>Spain</td>\n",
              "      <td>Female</td>\n",
              "      <td>41</td>\n",
              "      <td>1</td>\n",
              "      <td>83807.86</td>\n",
              "      <td>1</td>\n",
              "      <td>0</td>\n",
              "      <td>1</td>\n",
              "      <td>112542.58</td>\n",
              "      <td>0</td>\n",
              "    </tr>\n",
              "    <tr>\n",
              "      <th>2</th>\n",
              "      <td>3</td>\n",
              "      <td>15619304</td>\n",
              "      <td>Onio</td>\n",
              "      <td>502</td>\n",
              "      <td>France</td>\n",
              "      <td>Female</td>\n",
              "      <td>42</td>\n",
              "      <td>8</td>\n",
              "      <td>159660.80</td>\n",
              "      <td>3</td>\n",
              "      <td>1</td>\n",
              "      <td>0</td>\n",
              "      <td>113931.57</td>\n",
              "      <td>1</td>\n",
              "    </tr>\n",
              "    <tr>\n",
              "      <th>3</th>\n",
              "      <td>4</td>\n",
              "      <td>15701354</td>\n",
              "      <td>Boni</td>\n",
              "      <td>699</td>\n",
              "      <td>France</td>\n",
              "      <td>Female</td>\n",
              "      <td>39</td>\n",
              "      <td>1</td>\n",
              "      <td>0.00</td>\n",
              "      <td>2</td>\n",
              "      <td>0</td>\n",
              "      <td>0</td>\n",
              "      <td>93826.63</td>\n",
              "      <td>0</td>\n",
              "    </tr>\n",
              "    <tr>\n",
              "      <th>4</th>\n",
              "      <td>5</td>\n",
              "      <td>15737888</td>\n",
              "      <td>Mitchell</td>\n",
              "      <td>850</td>\n",
              "      <td>Spain</td>\n",
              "      <td>Female</td>\n",
              "      <td>43</td>\n",
              "      <td>2</td>\n",
              "      <td>125510.82</td>\n",
              "      <td>1</td>\n",
              "      <td>1</td>\n",
              "      <td>1</td>\n",
              "      <td>79084.10</td>\n",
              "      <td>0</td>\n",
              "    </tr>\n",
              "    <tr>\n",
              "      <th>...</th>\n",
              "      <td>...</td>\n",
              "      <td>...</td>\n",
              "      <td>...</td>\n",
              "      <td>...</td>\n",
              "      <td>...</td>\n",
              "      <td>...</td>\n",
              "      <td>...</td>\n",
              "      <td>...</td>\n",
              "      <td>...</td>\n",
              "      <td>...</td>\n",
              "      <td>...</td>\n",
              "      <td>...</td>\n",
              "      <td>...</td>\n",
              "      <td>...</td>\n",
              "    </tr>\n",
              "    <tr>\n",
              "      <th>9995</th>\n",
              "      <td>9996</td>\n",
              "      <td>15606229</td>\n",
              "      <td>Obijiaku</td>\n",
              "      <td>771</td>\n",
              "      <td>France</td>\n",
              "      <td>Male</td>\n",
              "      <td>39</td>\n",
              "      <td>5</td>\n",
              "      <td>0.00</td>\n",
              "      <td>2</td>\n",
              "      <td>1</td>\n",
              "      <td>0</td>\n",
              "      <td>96270.64</td>\n",
              "      <td>0</td>\n",
              "    </tr>\n",
              "    <tr>\n",
              "      <th>9996</th>\n",
              "      <td>9997</td>\n",
              "      <td>15569892</td>\n",
              "      <td>Johnstone</td>\n",
              "      <td>516</td>\n",
              "      <td>France</td>\n",
              "      <td>Male</td>\n",
              "      <td>35</td>\n",
              "      <td>10</td>\n",
              "      <td>57369.61</td>\n",
              "      <td>1</td>\n",
              "      <td>1</td>\n",
              "      <td>1</td>\n",
              "      <td>101699.77</td>\n",
              "      <td>0</td>\n",
              "    </tr>\n",
              "    <tr>\n",
              "      <th>9997</th>\n",
              "      <td>9998</td>\n",
              "      <td>15584532</td>\n",
              "      <td>Liu</td>\n",
              "      <td>709</td>\n",
              "      <td>France</td>\n",
              "      <td>Female</td>\n",
              "      <td>36</td>\n",
              "      <td>7</td>\n",
              "      <td>0.00</td>\n",
              "      <td>1</td>\n",
              "      <td>0</td>\n",
              "      <td>1</td>\n",
              "      <td>42085.58</td>\n",
              "      <td>1</td>\n",
              "    </tr>\n",
              "    <tr>\n",
              "      <th>9998</th>\n",
              "      <td>9999</td>\n",
              "      <td>15682355</td>\n",
              "      <td>Sabbatini</td>\n",
              "      <td>772</td>\n",
              "      <td>Germany</td>\n",
              "      <td>Male</td>\n",
              "      <td>42</td>\n",
              "      <td>3</td>\n",
              "      <td>75075.31</td>\n",
              "      <td>2</td>\n",
              "      <td>1</td>\n",
              "      <td>0</td>\n",
              "      <td>92888.52</td>\n",
              "      <td>1</td>\n",
              "    </tr>\n",
              "    <tr>\n",
              "      <th>9999</th>\n",
              "      <td>10000</td>\n",
              "      <td>15628319</td>\n",
              "      <td>Walker</td>\n",
              "      <td>792</td>\n",
              "      <td>France</td>\n",
              "      <td>Female</td>\n",
              "      <td>28</td>\n",
              "      <td>4</td>\n",
              "      <td>130142.79</td>\n",
              "      <td>1</td>\n",
              "      <td>1</td>\n",
              "      <td>0</td>\n",
              "      <td>38190.78</td>\n",
              "      <td>0</td>\n",
              "    </tr>\n",
              "  </tbody>\n",
              "</table>\n",
              "<p>10000 rows × 14 columns</p>\n",
              "</div>"
            ],
            "text/plain": [
              "      RowNumber  CustomerId    Surname  ...  IsActiveMember EstimatedSalary Exited\n",
              "0             1    15634602   Hargrave  ...               1       101348.88      1\n",
              "1             2    15647311       Hill  ...               1       112542.58      0\n",
              "2             3    15619304       Onio  ...               0       113931.57      1\n",
              "3             4    15701354       Boni  ...               0        93826.63      0\n",
              "4             5    15737888   Mitchell  ...               1        79084.10      0\n",
              "...         ...         ...        ...  ...             ...             ...    ...\n",
              "9995       9996    15606229   Obijiaku  ...               0        96270.64      0\n",
              "9996       9997    15569892  Johnstone  ...               1       101699.77      0\n",
              "9997       9998    15584532        Liu  ...               1        42085.58      1\n",
              "9998       9999    15682355  Sabbatini  ...               0        92888.52      1\n",
              "9999      10000    15628319     Walker  ...               0        38190.78      0\n",
              "\n",
              "[10000 rows x 14 columns]"
            ]
          },
          "metadata": {
            "tags": []
          },
          "execution_count": 3
        }
      ]
    },
    {
      "cell_type": "code",
      "metadata": {
        "id": "RJAXKqkKrlXd"
      },
      "source": [
        "X = data.iloc[:, 3: 13]\r\n",
        "y = data.iloc[:, 13]"
      ],
      "execution_count": 10,
      "outputs": []
    },
    {
      "cell_type": "code",
      "metadata": {
        "id": "9G5ihkqpuFlN"
      },
      "source": [
        "geography=pd.get_dummies(X['Geography'], drop_first= True)\r\n",
        "gender=pd.get_dummies(X['Gender'], drop_first= True)"
      ],
      "execution_count": 11,
      "outputs": []
    },
    {
      "cell_type": "code",
      "metadata": {
        "id": "qlv_4bpFvRQt"
      },
      "source": [
        "X=pd.concat([X,geography,gender],axis=1)"
      ],
      "execution_count": 12,
      "outputs": []
    },
    {
      "cell_type": "code",
      "metadata": {
        "id": "q6J8VYKpviek"
      },
      "source": [
        "X=X.drop(['Geography','Gender'],axis=1)"
      ],
      "execution_count": 13,
      "outputs": []
    },
    {
      "cell_type": "code",
      "metadata": {
        "id": "n6PJnmctvlXc"
      },
      "source": [
        "from sklearn.model_selection import train_test_split\r\n",
        "X_train,X_test,y_train,y_test=train_test_split(X,y,test_size=0.2,random_state=42)"
      ],
      "execution_count": 14,
      "outputs": []
    },
    {
      "cell_type": "code",
      "metadata": {
        "id": "VOnCmZvZvoIL"
      },
      "source": [
        "from sklearn.preprocessing import StandardScaler\r\n",
        "scaler=StandardScaler()\r\n",
        "X_train=scaler.fit_transform(X_train)\r\n",
        "X_test=scaler.transform(X_test)"
      ],
      "execution_count": 15,
      "outputs": []
    },
    {
      "cell_type": "code",
      "metadata": {
        "colab": {
          "base_uri": "https://localhost:8080/"
        },
        "id": "WMjgO_E6vuhf",
        "outputId": "5b6d9975-380d-4c05-b52b-d57298cc0bb3"
      },
      "source": [
        "classifier=Sequential()\r\n",
        "#Adding the Input layer and the first hidden layer\r\n",
        "classifier.add(Dense(units = 6, kernel_initializer = 'he_uniform',activation='relu',input_dim=11))\r\n",
        "#Adding the second hidden layer\r\n",
        "classifier.add(Dense(units = 6, kernel_initializer = 'he_uniform',activation='relu'))\r\n",
        "#Adding the third hidden layer\r\n",
        "classifier.add(Dense(units = 6, kernel_initializer = 'he_uniform',activation='relu'))\r\n",
        "#Adding the output layer\r\n",
        "classifier.add(Dense(units = 1, kernel_initializer = 'glorot_uniform',activation='sigmoid'))\r\n",
        "classifier.summary()"
      ],
      "execution_count": 16,
      "outputs": [
        {
          "output_type": "stream",
          "text": [
            "Model: \"sequential\"\n",
            "_________________________________________________________________\n",
            "Layer (type)                 Output Shape              Param #   \n",
            "=================================================================\n",
            "dense (Dense)                (None, 6)                 72        \n",
            "_________________________________________________________________\n",
            "dense_1 (Dense)              (None, 6)                 42        \n",
            "_________________________________________________________________\n",
            "dense_2 (Dense)              (None, 6)                 42        \n",
            "_________________________________________________________________\n",
            "dense_3 (Dense)              (None, 1)                 7         \n",
            "=================================================================\n",
            "Total params: 163\n",
            "Trainable params: 163\n",
            "Non-trainable params: 0\n",
            "_________________________________________________________________\n"
          ],
          "name": "stdout"
        }
      ]
    },
    {
      "cell_type": "code",
      "metadata": {
        "id": "1QcQD3fWv_N7"
      },
      "source": [
        "#Compiling the ANN\r\n",
        "classifier.compile(optimizer = 'adam', loss = 'binary_crossentropy', metrics = ['accuracy'])"
      ],
      "execution_count": 17,
      "outputs": []
    },
    {
      "cell_type": "code",
      "metadata": {
        "colab": {
          "base_uri": "https://localhost:8080/"
        },
        "id": "oH_cpvYLwB7r",
        "outputId": "d75b31f0-53e2-48d6-8dfa-045b183b107a"
      },
      "source": [
        "#Fitting the ANN to training set\r\n",
        "model_history=classifier.fit(X_train,y_train,validation_split=0.33,batch_size=10, epochs=100)"
      ],
      "execution_count": 21,
      "outputs": [
        {
          "output_type": "stream",
          "text": [
            "Epoch 1/100\n",
            "536/536 [==============================] - 1s 1ms/step - loss: 0.6409 - accuracy: 0.6867 - val_loss: 0.5173 - val_accuracy: 0.7910\n",
            "Epoch 2/100\n",
            "536/536 [==============================] - 1s 1ms/step - loss: 0.4985 - accuracy: 0.7962 - val_loss: 0.4953 - val_accuracy: 0.7910\n",
            "Epoch 3/100\n",
            "536/536 [==============================] - 1s 1ms/step - loss: 0.4768 - accuracy: 0.7960 - val_loss: 0.4704 - val_accuracy: 0.7910\n",
            "Epoch 4/100\n",
            "536/536 [==============================] - 1s 1ms/step - loss: 0.4513 - accuracy: 0.7968 - val_loss: 0.4507 - val_accuracy: 0.7967\n",
            "Epoch 5/100\n",
            "536/536 [==============================] - 1s 1ms/step - loss: 0.4358 - accuracy: 0.8031 - val_loss: 0.4412 - val_accuracy: 0.8042\n",
            "Epoch 6/100\n",
            "536/536 [==============================] - 1s 1ms/step - loss: 0.4260 - accuracy: 0.8095 - val_loss: 0.4378 - val_accuracy: 0.8073\n",
            "Epoch 7/100\n",
            "536/536 [==============================] - 1s 2ms/step - loss: 0.4192 - accuracy: 0.8162 - val_loss: 0.4315 - val_accuracy: 0.8129\n",
            "Epoch 8/100\n",
            "536/536 [==============================] - 1s 2ms/step - loss: 0.4129 - accuracy: 0.8196 - val_loss: 0.4283 - val_accuracy: 0.8148\n",
            "Epoch 9/100\n",
            "536/536 [==============================] - 1s 2ms/step - loss: 0.4085 - accuracy: 0.8190 - val_loss: 0.4259 - val_accuracy: 0.8148\n",
            "Epoch 10/100\n",
            "536/536 [==============================] - 1s 1ms/step - loss: 0.4038 - accuracy: 0.8227 - val_loss: 0.4226 - val_accuracy: 0.8152\n",
            "Epoch 11/100\n",
            "536/536 [==============================] - 1s 1ms/step - loss: 0.3983 - accuracy: 0.8272 - val_loss: 0.4182 - val_accuracy: 0.8152\n",
            "Epoch 12/100\n",
            "536/536 [==============================] - 1s 2ms/step - loss: 0.3945 - accuracy: 0.8285 - val_loss: 0.4170 - val_accuracy: 0.8171\n",
            "Epoch 13/100\n",
            "536/536 [==============================] - 1s 1ms/step - loss: 0.3910 - accuracy: 0.8300 - val_loss: 0.4136 - val_accuracy: 0.8183\n",
            "Epoch 14/100\n",
            "536/536 [==============================] - 1s 1ms/step - loss: 0.3877 - accuracy: 0.8350 - val_loss: 0.4096 - val_accuracy: 0.8213\n",
            "Epoch 15/100\n",
            "536/536 [==============================] - 1s 1ms/step - loss: 0.3842 - accuracy: 0.8326 - val_loss: 0.4099 - val_accuracy: 0.8190\n",
            "Epoch 16/100\n",
            "536/536 [==============================] - 1s 1ms/step - loss: 0.3813 - accuracy: 0.8337 - val_loss: 0.4041 - val_accuracy: 0.8258\n",
            "Epoch 17/100\n",
            "536/536 [==============================] - 1s 2ms/step - loss: 0.3794 - accuracy: 0.8330 - val_loss: 0.4022 - val_accuracy: 0.8258\n",
            "Epoch 18/100\n",
            "536/536 [==============================] - 1s 2ms/step - loss: 0.3774 - accuracy: 0.8326 - val_loss: 0.4003 - val_accuracy: 0.8258\n",
            "Epoch 19/100\n",
            "536/536 [==============================] - 1s 2ms/step - loss: 0.3749 - accuracy: 0.8317 - val_loss: 0.3974 - val_accuracy: 0.8243\n",
            "Epoch 20/100\n",
            "536/536 [==============================] - 1s 1ms/step - loss: 0.3721 - accuracy: 0.8350 - val_loss: 0.3981 - val_accuracy: 0.8239\n",
            "Epoch 21/100\n",
            "536/536 [==============================] - 1s 1ms/step - loss: 0.3706 - accuracy: 0.8350 - val_loss: 0.3953 - val_accuracy: 0.8296\n",
            "Epoch 22/100\n",
            "536/536 [==============================] - 1s 1ms/step - loss: 0.3669 - accuracy: 0.8334 - val_loss: 0.3973 - val_accuracy: 0.8323\n",
            "Epoch 23/100\n",
            "536/536 [==============================] - 1s 2ms/step - loss: 0.3657 - accuracy: 0.8412 - val_loss: 0.3914 - val_accuracy: 0.8349\n",
            "Epoch 24/100\n",
            "536/536 [==============================] - 1s 1ms/step - loss: 0.3636 - accuracy: 0.8474 - val_loss: 0.3910 - val_accuracy: 0.8364\n",
            "Epoch 25/100\n",
            "536/536 [==============================] - 1s 2ms/step - loss: 0.3602 - accuracy: 0.8526 - val_loss: 0.3885 - val_accuracy: 0.8395\n",
            "Epoch 26/100\n",
            "536/536 [==============================] - 1s 2ms/step - loss: 0.3585 - accuracy: 0.8518 - val_loss: 0.3868 - val_accuracy: 0.8436\n",
            "Epoch 27/100\n",
            "536/536 [==============================] - 1s 1ms/step - loss: 0.3559 - accuracy: 0.8533 - val_loss: 0.3852 - val_accuracy: 0.8425\n",
            "Epoch 28/100\n",
            "536/536 [==============================] - 1s 1ms/step - loss: 0.3534 - accuracy: 0.8574 - val_loss: 0.3835 - val_accuracy: 0.8455\n",
            "Epoch 29/100\n",
            "536/536 [==============================] - 1s 2ms/step - loss: 0.3514 - accuracy: 0.8586 - val_loss: 0.3793 - val_accuracy: 0.8455\n",
            "Epoch 30/100\n",
            "536/536 [==============================] - 1s 2ms/step - loss: 0.3494 - accuracy: 0.8574 - val_loss: 0.3796 - val_accuracy: 0.8455\n",
            "Epoch 31/100\n",
            "536/536 [==============================] - 1s 1ms/step - loss: 0.3470 - accuracy: 0.8582 - val_loss: 0.3747 - val_accuracy: 0.8440\n",
            "Epoch 32/100\n",
            "536/536 [==============================] - 1s 1ms/step - loss: 0.3467 - accuracy: 0.8597 - val_loss: 0.3752 - val_accuracy: 0.8448\n",
            "Epoch 33/100\n",
            "536/536 [==============================] - 1s 1ms/step - loss: 0.3437 - accuracy: 0.8582 - val_loss: 0.3736 - val_accuracy: 0.8455\n",
            "Epoch 34/100\n",
            "536/536 [==============================] - 1s 1ms/step - loss: 0.3430 - accuracy: 0.8589 - val_loss: 0.3736 - val_accuracy: 0.8436\n",
            "Epoch 35/100\n",
            "536/536 [==============================] - 1s 2ms/step - loss: 0.3413 - accuracy: 0.8615 - val_loss: 0.3741 - val_accuracy: 0.8474\n",
            "Epoch 36/100\n",
            "536/536 [==============================] - 1s 2ms/step - loss: 0.3405 - accuracy: 0.8589 - val_loss: 0.3712 - val_accuracy: 0.8459\n",
            "Epoch 37/100\n",
            "536/536 [==============================] - 1s 2ms/step - loss: 0.3395 - accuracy: 0.8589 - val_loss: 0.3729 - val_accuracy: 0.8470\n",
            "Epoch 38/100\n",
            "536/536 [==============================] - 1s 2ms/step - loss: 0.3381 - accuracy: 0.8623 - val_loss: 0.3695 - val_accuracy: 0.8478\n",
            "Epoch 39/100\n",
            "536/536 [==============================] - 1s 1ms/step - loss: 0.3369 - accuracy: 0.8602 - val_loss: 0.3675 - val_accuracy: 0.8482\n",
            "Epoch 40/100\n",
            "536/536 [==============================] - 1s 1ms/step - loss: 0.3357 - accuracy: 0.8606 - val_loss: 0.3726 - val_accuracy: 0.8478\n",
            "Epoch 41/100\n",
            "536/536 [==============================] - 1s 1ms/step - loss: 0.3356 - accuracy: 0.8608 - val_loss: 0.3660 - val_accuracy: 0.8478\n",
            "Epoch 42/100\n",
            "536/536 [==============================] - 1s 2ms/step - loss: 0.3345 - accuracy: 0.8634 - val_loss: 0.3660 - val_accuracy: 0.8463\n",
            "Epoch 43/100\n",
            "536/536 [==============================] - 1s 1ms/step - loss: 0.3337 - accuracy: 0.8625 - val_loss: 0.3678 - val_accuracy: 0.8417\n",
            "Epoch 44/100\n",
            "536/536 [==============================] - 1s 2ms/step - loss: 0.3325 - accuracy: 0.8630 - val_loss: 0.3662 - val_accuracy: 0.8489\n",
            "Epoch 45/100\n",
            "536/536 [==============================] - 1s 2ms/step - loss: 0.3330 - accuracy: 0.8625 - val_loss: 0.3660 - val_accuracy: 0.8482\n",
            "Epoch 46/100\n",
            "536/536 [==============================] - 1s 1ms/step - loss: 0.3319 - accuracy: 0.8636 - val_loss: 0.3648 - val_accuracy: 0.8466\n",
            "Epoch 47/100\n",
            "536/536 [==============================] - 1s 2ms/step - loss: 0.3311 - accuracy: 0.8645 - val_loss: 0.3664 - val_accuracy: 0.8508\n",
            "Epoch 48/100\n",
            "536/536 [==============================] - 1s 2ms/step - loss: 0.3311 - accuracy: 0.8647 - val_loss: 0.3632 - val_accuracy: 0.8493\n",
            "Epoch 49/100\n",
            "536/536 [==============================] - 1s 2ms/step - loss: 0.3303 - accuracy: 0.8642 - val_loss: 0.3690 - val_accuracy: 0.8497\n",
            "Epoch 50/100\n",
            "536/536 [==============================] - 1s 1ms/step - loss: 0.3303 - accuracy: 0.8651 - val_loss: 0.3616 - val_accuracy: 0.8523\n",
            "Epoch 51/100\n",
            "536/536 [==============================] - 1s 1ms/step - loss: 0.3297 - accuracy: 0.8642 - val_loss: 0.3615 - val_accuracy: 0.8474\n",
            "Epoch 52/100\n",
            "536/536 [==============================] - 1s 1ms/step - loss: 0.3289 - accuracy: 0.8655 - val_loss: 0.3629 - val_accuracy: 0.8523\n",
            "Epoch 53/100\n",
            "536/536 [==============================] - 1s 1ms/step - loss: 0.3292 - accuracy: 0.8647 - val_loss: 0.3653 - val_accuracy: 0.8489\n",
            "Epoch 54/100\n",
            "536/536 [==============================] - 1s 1ms/step - loss: 0.3292 - accuracy: 0.8632 - val_loss: 0.3655 - val_accuracy: 0.8546\n",
            "Epoch 55/100\n",
            "536/536 [==============================] - 1s 2ms/step - loss: 0.3290 - accuracy: 0.8638 - val_loss: 0.3645 - val_accuracy: 0.8493\n",
            "Epoch 56/100\n",
            "536/536 [==============================] - 1s 1ms/step - loss: 0.3274 - accuracy: 0.8668 - val_loss: 0.3638 - val_accuracy: 0.8504\n",
            "Epoch 57/100\n",
            "536/536 [==============================] - 1s 1ms/step - loss: 0.3276 - accuracy: 0.8655 - val_loss: 0.3623 - val_accuracy: 0.8501\n",
            "Epoch 58/100\n",
            "536/536 [==============================] - 1s 2ms/step - loss: 0.3273 - accuracy: 0.8668 - val_loss: 0.3638 - val_accuracy: 0.8546\n",
            "Epoch 59/100\n",
            "536/536 [==============================] - 1s 2ms/step - loss: 0.3283 - accuracy: 0.8649 - val_loss: 0.3649 - val_accuracy: 0.8508\n",
            "Epoch 60/100\n",
            "536/536 [==============================] - 1s 2ms/step - loss: 0.3284 - accuracy: 0.8638 - val_loss: 0.3644 - val_accuracy: 0.8504\n",
            "Epoch 61/100\n",
            "536/536 [==============================] - 1s 1ms/step - loss: 0.3276 - accuracy: 0.8630 - val_loss: 0.3652 - val_accuracy: 0.8497\n",
            "Epoch 62/100\n",
            "536/536 [==============================] - 1s 1ms/step - loss: 0.3270 - accuracy: 0.8645 - val_loss: 0.3671 - val_accuracy: 0.8538\n",
            "Epoch 63/100\n",
            "536/536 [==============================] - 1s 2ms/step - loss: 0.3268 - accuracy: 0.8656 - val_loss: 0.3666 - val_accuracy: 0.8516\n",
            "Epoch 64/100\n",
            "536/536 [==============================] - 1s 1ms/step - loss: 0.3264 - accuracy: 0.8642 - val_loss: 0.3638 - val_accuracy: 0.8504\n",
            "Epoch 65/100\n",
            "536/536 [==============================] - 1s 1ms/step - loss: 0.3266 - accuracy: 0.8651 - val_loss: 0.3663 - val_accuracy: 0.8501\n",
            "Epoch 66/100\n",
            "536/536 [==============================] - 1s 1ms/step - loss: 0.3273 - accuracy: 0.8664 - val_loss: 0.3632 - val_accuracy: 0.8519\n",
            "Epoch 67/100\n",
            "536/536 [==============================] - 1s 1ms/step - loss: 0.3262 - accuracy: 0.8656 - val_loss: 0.3651 - val_accuracy: 0.8538\n",
            "Epoch 68/100\n",
            "536/536 [==============================] - 1s 2ms/step - loss: 0.3263 - accuracy: 0.8666 - val_loss: 0.3642 - val_accuracy: 0.8512\n",
            "Epoch 69/100\n",
            "536/536 [==============================] - 1s 2ms/step - loss: 0.3266 - accuracy: 0.8660 - val_loss: 0.3641 - val_accuracy: 0.8504\n",
            "Epoch 70/100\n",
            "536/536 [==============================] - 1s 2ms/step - loss: 0.3265 - accuracy: 0.8664 - val_loss: 0.3676 - val_accuracy: 0.8489\n",
            "Epoch 71/100\n",
            "536/536 [==============================] - 1s 2ms/step - loss: 0.3242 - accuracy: 0.8655 - val_loss: 0.3614 - val_accuracy: 0.8512\n",
            "Epoch 72/100\n",
            "536/536 [==============================] - 1s 2ms/step - loss: 0.3271 - accuracy: 0.8645 - val_loss: 0.3646 - val_accuracy: 0.8501\n",
            "Epoch 73/100\n",
            "536/536 [==============================] - 1s 2ms/step - loss: 0.3258 - accuracy: 0.8645 - val_loss: 0.3650 - val_accuracy: 0.8497\n",
            "Epoch 74/100\n",
            "536/536 [==============================] - 1s 1ms/step - loss: 0.3258 - accuracy: 0.8681 - val_loss: 0.3626 - val_accuracy: 0.8489\n",
            "Epoch 75/100\n",
            "536/536 [==============================] - 1s 1ms/step - loss: 0.3243 - accuracy: 0.8664 - val_loss: 0.3726 - val_accuracy: 0.8432\n",
            "Epoch 76/100\n",
            "536/536 [==============================] - 1s 1ms/step - loss: 0.3253 - accuracy: 0.8679 - val_loss: 0.3607 - val_accuracy: 0.8516\n",
            "Epoch 77/100\n",
            "536/536 [==============================] - 1s 2ms/step - loss: 0.3251 - accuracy: 0.8694 - val_loss: 0.3638 - val_accuracy: 0.8519\n",
            "Epoch 78/100\n",
            "536/536 [==============================] - 1s 2ms/step - loss: 0.3249 - accuracy: 0.8656 - val_loss: 0.3624 - val_accuracy: 0.8516\n",
            "Epoch 79/100\n",
            "536/536 [==============================] - 1s 2ms/step - loss: 0.3254 - accuracy: 0.8643 - val_loss: 0.3633 - val_accuracy: 0.8497\n",
            "Epoch 80/100\n",
            "536/536 [==============================] - 1s 1ms/step - loss: 0.3252 - accuracy: 0.8671 - val_loss: 0.3655 - val_accuracy: 0.8508\n",
            "Epoch 81/100\n",
            "536/536 [==============================] - 1s 1ms/step - loss: 0.3251 - accuracy: 0.8658 - val_loss: 0.3651 - val_accuracy: 0.8538\n",
            "Epoch 82/100\n",
            "536/536 [==============================] - 1s 1ms/step - loss: 0.3249 - accuracy: 0.8662 - val_loss: 0.3635 - val_accuracy: 0.8531\n",
            "Epoch 83/100\n",
            "536/536 [==============================] - 1s 2ms/step - loss: 0.3243 - accuracy: 0.8658 - val_loss: 0.3661 - val_accuracy: 0.8493\n",
            "Epoch 84/100\n",
            "536/536 [==============================] - 1s 2ms/step - loss: 0.3244 - accuracy: 0.8658 - val_loss: 0.3627 - val_accuracy: 0.8527\n",
            "Epoch 85/100\n",
            "536/536 [==============================] - 1s 2ms/step - loss: 0.3237 - accuracy: 0.8666 - val_loss: 0.3623 - val_accuracy: 0.8523\n",
            "Epoch 86/100\n",
            "536/536 [==============================] - 1s 2ms/step - loss: 0.3245 - accuracy: 0.8660 - val_loss: 0.3618 - val_accuracy: 0.8504\n",
            "Epoch 87/100\n",
            "536/536 [==============================] - 1s 1ms/step - loss: 0.3234 - accuracy: 0.8686 - val_loss: 0.3621 - val_accuracy: 0.8489\n",
            "Epoch 88/100\n",
            "536/536 [==============================] - 1s 1ms/step - loss: 0.3242 - accuracy: 0.8651 - val_loss: 0.3655 - val_accuracy: 0.8531\n",
            "Epoch 89/100\n",
            "536/536 [==============================] - 1s 2ms/step - loss: 0.3249 - accuracy: 0.8688 - val_loss: 0.3626 - val_accuracy: 0.8535\n",
            "Epoch 90/100\n",
            "536/536 [==============================] - 1s 2ms/step - loss: 0.3237 - accuracy: 0.8671 - val_loss: 0.3637 - val_accuracy: 0.8523\n",
            "Epoch 91/100\n",
            "536/536 [==============================] - 1s 2ms/step - loss: 0.3243 - accuracy: 0.8647 - val_loss: 0.3606 - val_accuracy: 0.8542\n",
            "Epoch 92/100\n",
            "536/536 [==============================] - 1s 2ms/step - loss: 0.3241 - accuracy: 0.8683 - val_loss: 0.3609 - val_accuracy: 0.8519\n",
            "Epoch 93/100\n",
            "536/536 [==============================] - 1s 2ms/step - loss: 0.3234 - accuracy: 0.8668 - val_loss: 0.3612 - val_accuracy: 0.8527\n",
            "Epoch 94/100\n",
            "536/536 [==============================] - 1s 1ms/step - loss: 0.3231 - accuracy: 0.8655 - val_loss: 0.3647 - val_accuracy: 0.8523\n",
            "Epoch 95/100\n",
            "536/536 [==============================] - 1s 2ms/step - loss: 0.3233 - accuracy: 0.8683 - val_loss: 0.3646 - val_accuracy: 0.8493\n",
            "Epoch 96/100\n",
            "536/536 [==============================] - 1s 2ms/step - loss: 0.3239 - accuracy: 0.8662 - val_loss: 0.3602 - val_accuracy: 0.8531\n",
            "Epoch 97/100\n",
            "536/536 [==============================] - 1s 2ms/step - loss: 0.3234 - accuracy: 0.8699 - val_loss: 0.3610 - val_accuracy: 0.8527\n",
            "Epoch 98/100\n",
            "536/536 [==============================] - 1s 2ms/step - loss: 0.3245 - accuracy: 0.8664 - val_loss: 0.3610 - val_accuracy: 0.8504\n",
            "Epoch 99/100\n",
            "536/536 [==============================] - 1s 1ms/step - loss: 0.3232 - accuracy: 0.8671 - val_loss: 0.3611 - val_accuracy: 0.8523\n",
            "Epoch 100/100\n",
            "536/536 [==============================] - 1s 2ms/step - loss: 0.3233 - accuracy: 0.8675 - val_loss: 0.3633 - val_accuracy: 0.8565\n"
          ],
          "name": "stdout"
        }
      ]
    },
    {
      "cell_type": "code",
      "metadata": {
        "id": "Nd83oqdYwEEk"
      },
      "source": [
        "#Predicting the test set results\r\n",
        "y_pred = classifier.predict(X_test)\r\n",
        "y_pred = (y_pred > 0.5)"
      ],
      "execution_count": 22,
      "outputs": []
    },
    {
      "cell_type": "code",
      "metadata": {
        "id": "y3BjzhzuwhkZ"
      },
      "source": [
        "#confusion matrix and the metrics\r\n",
        "from sklearn.metrics import confusion_matrix\r\n",
        "c=confusion_matrix(y_test,y_pred)\r\n",
        "\r\n",
        "from sklearn.metrics import accuracy_score\r\n",
        "score=accuracy_score(y_pred,y_test)"
      ],
      "execution_count": 23,
      "outputs": []
    },
    {
      "cell_type": "code",
      "metadata": {
        "colab": {
          "base_uri": "https://localhost:8080/"
        },
        "id": "57_x5X4kwyXT",
        "outputId": "fc1035dd-cd34-4a5e-ecc4-9595c0d08c50"
      },
      "source": [
        "print(c,score)"
      ],
      "execution_count": 24,
      "outputs": [
        {
          "output_type": "stream",
          "text": [
            "[[1534   73]\n",
            " [ 203  190]] 0.862\n"
          ],
          "name": "stdout"
        }
      ]
    },
    {
      "cell_type": "markdown",
      "metadata": {
        "id": "o1xRWqnwzn7t"
      },
      "source": [
        "## Lets do the hyper parameter tuning to get the best hyper parameters"
      ]
    },
    {
      "cell_type": "code",
      "metadata": {
        "id": "DS7w7w_1w3-y"
      },
      "source": [
        "from keras.wrappers.scikit_learn import KerasClassifier\r\n",
        "from sklearn.model_selection import GridSearchCV\r\n",
        "\r\n",
        "from keras.models import Sequential\r\n",
        "from keras.layers import Dense,Activation,Embedding,Flatten,LeakyReLU,BatchNormalization\r\n",
        "from keras.activations import relu, sigmoid\r\n",
        "from keras.layers import Dropout"
      ],
      "execution_count": 25,
      "outputs": []
    },
    {
      "cell_type": "code",
      "metadata": {
        "id": "1UvTESiow4lY"
      },
      "source": [
        "def create_model(layers,activation):\r\n",
        "    model=Sequential()\r\n",
        "    for i,nodes in enumerate(layers):\r\n",
        "        if i==0:\r\n",
        "            model.add(Dense(nodes,input_dim=X_train.shape[1]))\r\n",
        "            model.add(Activation(activation))\r\n",
        "            model.add(Dropout(0.3))\r\n",
        "            \r\n",
        "        else:\r\n",
        "            model.add(Dense(nodes))\r\n",
        "            model.add(Activation(activation))\r\n",
        "            model.add(Dropout(0.3))\r\n",
        "    model.add(Dense(units=1,kernel_initializer='uniform',activation='sigmoid'))\r\n",
        "    model.compile(optimizer = 'Adam', loss = 'binary_crossentropy', metrics = ['accuracy'])\r\n",
        "    return model\r\n",
        "model=KerasClassifier(build_fn=create_model, verbose=0)"
      ],
      "execution_count": 26,
      "outputs": []
    },
    {
      "cell_type": "code",
      "metadata": {
        "id": "ZEHZd-Euw7BT"
      },
      "source": [
        "layers=[(20,),(40,20),(20,10),(30,20),(25,20)]\r\n",
        "activations=['sigmoid','relu']\r\n",
        "param_grid = dict(layers= layers,activation= activations,batch_size= [128,256],epochs= [30])\r\n",
        "\r\n",
        "grid=GridSearchCV(estimator=model,param_grid=param_grid,cv=5)"
      ],
      "execution_count": 27,
      "outputs": []
    },
    {
      "cell_type": "code",
      "metadata": {
        "id": "xuA6VU8ew9oU"
      },
      "source": [
        "grid_result=grid.fit(X_train,y_train)"
      ],
      "execution_count": 28,
      "outputs": []
    },
    {
      "cell_type": "code",
      "metadata": {
        "colab": {
          "base_uri": "https://localhost:8080/"
        },
        "id": "OYKr2KIUw_d1",
        "outputId": "7a35b7ae-1114-4654-e649-965317c5b0fa"
      },
      "source": [
        "print(grid_result.best_score_,grid_result.best_params_)"
      ],
      "execution_count": 29,
      "outputs": [
        {
          "output_type": "stream",
          "text": [
            "0.8539999842643737 {'activation': 'relu', 'batch_size': 128, 'epochs': 30, 'layers': (40, 20)}\n"
          ],
          "name": "stdout"
        }
      ]
    },
    {
      "cell_type": "code",
      "metadata": {
        "colab": {
          "base_uri": "https://localhost:8080/"
        },
        "id": "uveJzoKczuU1",
        "outputId": "a9f539a1-9bd5-4eda-eb62-522c5ed991bc"
      },
      "source": [
        "pred_y=grid.predict(X_test)\r\n",
        "y_pred=(pred_y>0.5)"
      ],
      "execution_count": 30,
      "outputs": [
        {
          "output_type": "stream",
          "text": [
            "/usr/local/lib/python3.6/dist-packages/tensorflow/python/keras/engine/sequential.py:450: UserWarning: `model.predict_classes()` is deprecated and will be removed after 2021-01-01. Please use instead:* `np.argmax(model.predict(x), axis=-1)`,   if your model does multi-class classification   (e.g. if it uses a `softmax` last-layer activation).* `(model.predict(x) > 0.5).astype(\"int32\")`,   if your model does binary classification   (e.g. if it uses a `sigmoid` last-layer activation).\n",
            "  warnings.warn('`model.predict_classes()` is deprecated and '\n"
          ],
          "name": "stderr"
        }
      ]
    },
    {
      "cell_type": "code",
      "metadata": {
        "colab": {
          "base_uri": "https://localhost:8080/"
        },
        "id": "mYY2YDbqzu20",
        "outputId": "e42d7159-ac5e-403c-e2c9-564a034ebb67"
      },
      "source": [
        "from sklearn.metrics import confusion_matrix,accuracy_score\r\n",
        "c1=confusion_matrix(y_pred,y_test)\r\n",
        "score=accuracy_score(y_pred,y_test)\r\n",
        "print(c1,score)"
      ],
      "execution_count": 31,
      "outputs": [
        {
          "output_type": "stream",
          "text": [
            "[[1563  240]\n",
            " [  44  153]] 0.858\n"
          ],
          "name": "stdout"
        }
      ]
    },
    {
      "cell_type": "code",
      "metadata": {
        "id": "iwV4QdgTzxXD"
      },
      "source": [
        ""
      ],
      "execution_count": null,
      "outputs": []
    }
  ]
}